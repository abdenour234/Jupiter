{
 "cells": [
  {
   "cell_type": "markdown",
   "id": "918e16d3-7595-4f1e-a785-0a0e590b01b6",
   "metadata": {
    "tags": []
   },
   "source": [
    "<h1>Data Science Tools and Ecosystem</h1>"
   ]
  },
  {
   "cell_type": "markdown",
   "id": "b7e4dd92-030f-4c79-a19b-36b785ea7740",
   "metadata": {},
   "source": [
    "In this notebook, Data Science Tools and Ecosystem are summarized."
   ]
  },
  {
   "cell_type": "markdown",
   "id": "7d75c705-65b6-4d40-a376-4fcf9957784f",
   "metadata": {},
   "source": [
    "\n",
    "\n",
    "**Objectives:**\n",
    "\n",
    "- List popular languages for Data Science.\n",
    "- Introduce commonly used libraries in data science.\n",
    "- Explore open source development environment tools for data science.\n",
    "- Provide an overview of key concepts in data science.\n",
    "- Highlight the importance of Jupyter Notebooks in the data science workflow.\n"
   ]
  },
  {
   "cell_type": "markdown",
   "id": "6f786244-aac8-422f-84d9-148bf2cd3717",
   "metadata": {},
   "source": [
    "Some of the popular languages that Data Scientists use are: \n",
    "    <ol>\n",
    "      <li>Python</li>\n",
    "        <li>R</li>\n",
    "        <li>SQL</li>\n",
    "        </ol>"
   ]
  },
  {
   "cell_type": "markdown",
   "id": "986875de-ef3e-435c-8d4f-41c19cff4beb",
   "metadata": {},
   "source": [
    "Some of the commonly used libraries used by Data Scientists include:\n",
    "    <ol>\n",
    "    <li>NumPy</li>\n",
    "    <li>Pandas</li>\n",
    "    <li>Matplotlib</li>\n",
    "    </ol>"
   ]
  },
  {
   "cell_type": "markdown",
   "id": "48e27720-fa65-4b4b-b115-e2c936d2017e",
   "metadata": {},
   "source": [
    " <h3>Data Science Tools</h3>\n",
    "\n",
    "<table>\n",
    "  <tr>\n",
    "    <th>Data Science Tools</th>\n",
    "  </tr>\n",
    "  <tr>\n",
    "    <td>Jupyter Notebook</td>\n",
    "  </tr>\n",
    "  <tr>\n",
    "    <td>RStudio</td>\n",
    "  </tr>\n",
    "  <tr>\n",
    "    <td>VS Code (Visual Studio Code)</td>\n",
    "  </tr>\n",
    "</table>"
   ]
  },
  {
   "cell_type": "markdown",
   "id": "b73e995e-dfe0-48bd-862f-1abaddeb949c",
   "metadata": {},
   "source": [
    "<h3>Below are a few examples of evaluating arithmetic expressions in Python</h3>"
   ]
  },
  {
   "cell_type": "code",
   "execution_count": 1,
   "id": "c5966281-6868-4b7b-8510-4d3d151e3f62",
   "metadata": {
    "tags": []
   },
   "outputs": [
    {
     "data": {
      "text/plain": [
       "17"
      ]
     },
     "execution_count": 1,
     "metadata": {},
     "output_type": "execute_result"
    }
   ],
   "source": [
    "#This a simple arithmetic expression to mutiply then add integers\n",
    "(3*4)+5"
   ]
  },
  {
   "cell_type": "code",
   "execution_count": 2,
   "id": "8fe4cee7-7e8b-49f9-bc67-5c62366a000d",
   "metadata": {
    "tags": []
   },
   "outputs": [
    {
     "data": {
      "text/plain": [
       "3.3333333333333335"
      ]
     },
     "execution_count": 2,
     "metadata": {},
     "output_type": "execute_result"
    }
   ],
   "source": [
    "#This will convert 200 minutes to hours by diving by 60\n",
    "minutes=200\n",
    "hours=minutes/60\n",
    "hours"
   ]
  },
  {
   "cell_type": "markdown",
   "id": "466beb59-dd41-4dd0-98f2-824bd806d385",
   "metadata": {},
   "source": [
    "<h2>Author</h2>\n",
    "Abdenour Chenouf"
   ]
  },
  {
   "cell_type": "code",
   "execution_count": null,
   "id": "f8aeae4a-5ded-4f0c-8db0-2a917810bfb5",
   "metadata": {},
   "outputs": [],
   "source": []
  }
 ],
 "metadata": {
  "kernelspec": {
   "display_name": "Python 3 (ipykernel)",
   "language": "python",
   "name": "python3"
  },
  "language_info": {
   "codemirror_mode": {
    "name": "ipython",
    "version": 3
   },
   "file_extension": ".py",
   "mimetype": "text/x-python",
   "name": "python",
   "nbconvert_exporter": "python",
   "pygments_lexer": "ipython3",
   "version": "3.11.5"
  }
 },
 "nbformat": 4,
 "nbformat_minor": 5
}
